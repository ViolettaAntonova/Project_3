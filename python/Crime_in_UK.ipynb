{
 "cells": [
  {
   "cell_type": "code",
   "execution_count": 1,
   "id": "857c94b6",
   "metadata": {},
   "outputs": [],
   "source": [
    "# Import dependencies\n",
    "from pymongo import MongoClient\n",
    "from pprint import pprint\n",
    "import pandas as pd\n",
    "import json\n",
    "import requests "
   ]
  },
  {
   "cell_type": "code",
   "execution_count": 2,
   "id": "a7b8b147",
   "metadata": {},
   "outputs": [],
   "source": [
    "# Create an instance of MongoClient\n",
    "mongo = MongoClient(port=27017)"
   ]
  },
  {
   "cell_type": "code",
   "execution_count": 3,
   "id": "f325b5d9",
   "metadata": {},
   "outputs": [
    {
     "name": "stdout",
     "output_type": "stream",
     "text": [
      "['admin', 'annualdb', 'autosaurus', 'classDB', 'config', 'crimeinuk', 'epa', 'fruits_db', 'itemsdb', 'local', 'met', 'sana_db', 'travel_db', 'uk_food']\n"
     ]
    }
   ],
   "source": [
    "# confirm that our new database was created\n",
    "print(mongo.list_database_names())"
   ]
  },
  {
   "cell_type": "code",
   "execution_count": 4,
   "id": "c282fbbb",
   "metadata": {},
   "outputs": [],
   "source": [
    "# assign the  database to a variable name\n",
    "crime_db = mongo['crimeinuk']"
   ]
  },
  {
   "cell_type": "code",
   "execution_count": 5,
   "id": "d2d12192",
   "metadata": {},
   "outputs": [
    {
     "name": "stdout",
     "output_type": "stream",
     "text": [
      "['firstyear', 'secondyear', 'lastyearthird', 'lastyearfirst', 'thirdyear', 'lastyearsecond']\n"
     ]
    }
   ],
   "source": [
    "# review the collections in our new database\n",
    "print(crime_db.list_collection_names())"
   ]
  },
  {
   "cell_type": "code",
   "execution_count": 7,
   "id": "fdcbc8cc",
   "metadata": {},
   "outputs": [
    {
     "name": "stdout",
     "output_type": "stream",
     "text": [
      "{'_id': ObjectId('64687b4c2bb043de2dfbbb7d'),\n",
      " 'category': 'anti-social-behaviour',\n",
      " 'context': '',\n",
      " 'id': 107980335,\n",
      " 'location': {'latitude': '52.462101',\n",
      "              'longitude': '-1.898563',\n",
      "              'street': {'id': 1639160,\n",
      "                         'name': 'On or near Four Stones Grove'}},\n",
      " 'location_subtype': '',\n",
      " 'location_type': 'Force',\n",
      " 'month': '2023-01',\n",
      " 'outcome_status': None,\n",
      " 'persistent_id': ''}\n"
     ]
    }
   ],
   "source": [
    "# review a document in the collection\n",
    "pprint(crime_db.firstyear.find_one())"
   ]
  },
  {
   "cell_type": "code",
   "execution_count": 8,
   "id": "b7a730ad",
   "metadata": {},
   "outputs": [
    {
     "name": "stdout",
     "output_type": "stream",
     "text": [
      "{'_id': ObjectId('64687b612bb043de2dfbc40f'),\n",
      " 'category': 'anti-social-behaviour',\n",
      " 'context': '',\n",
      " 'id': 108618453,\n",
      " 'location': {'latitude': '52.483153',\n",
      "              'longitude': '-1.895484',\n",
      "              'street': {'id': 1639336, 'name': 'On or near '}},\n",
      " 'location_subtype': '',\n",
      " 'location_type': 'Force',\n",
      " 'month': '2023-02',\n",
      " 'outcome_status': None,\n",
      " 'persistent_id': ''}\n"
     ]
    }
   ],
   "source": [
    "# review a document in the collection\n",
    "pprint(crime_db.secondyear.find_one())"
   ]
  },
  {
   "cell_type": "code",
   "execution_count": 9,
   "id": "21942685",
   "metadata": {},
   "outputs": [
    {
     "name": "stdout",
     "output_type": "stream",
     "text": [
      "{'_id': ObjectId('64687b742bb043de2dfbcc41'),\n",
      " 'category': 'anti-social-behaviour',\n",
      " 'context': '',\n",
      " 'id': 109139265,\n",
      " 'location': {'latitude': '52.455275',\n",
      "              'longitude': '-1.895841',\n",
      "              'street': {'id': 1639241, 'name': 'On or near Willows Road'}},\n",
      " 'location_subtype': '',\n",
      " 'location_type': 'Force',\n",
      " 'month': '2023-03',\n",
      " 'outcome_status': None,\n",
      " 'persistent_id': ''}\n"
     ]
    }
   ],
   "source": [
    "# review a document in the collection\n",
    "pprint(crime_db.thirdyear.find_one())"
   ]
  },
  {
   "cell_type": "code",
   "execution_count": 10,
   "id": "00d691f2",
   "metadata": {},
   "outputs": [
    {
     "name": "stdout",
     "output_type": "stream",
     "text": [
      "{'_id': ObjectId('64687b8d2bb043de2dfbd5a0'),\n",
      " 'category': 'anti-social-behaviour',\n",
      " 'context': '',\n",
      " 'id': 105770402,\n",
      " 'location': {'latitude': '52.495932',\n",
      "              'longitude': '-1.872252',\n",
      "              'street': {'id': 1640460, 'name': 'On or near Charles Drive'}},\n",
      " 'location_subtype': '',\n",
      " 'location_type': 'Force',\n",
      " 'month': '2022-10',\n",
      " 'outcome_status': None,\n",
      " 'persistent_id': ''}\n"
     ]
    }
   ],
   "source": [
    "# review a document in the collection\n",
    "pprint(crime_db.lastyearfirst.find_one())"
   ]
  },
  {
   "cell_type": "code",
   "execution_count": 11,
   "id": "8d69b420",
   "metadata": {},
   "outputs": [
    {
     "name": "stdout",
     "output_type": "stream",
     "text": [
      "{'_id': ObjectId('64687b9e2bb043de2dfbdf54'),\n",
      " 'category': 'anti-social-behaviour',\n",
      " 'context': '',\n",
      " 'id': 106689791,\n",
      " 'location': {'latitude': '52.477374',\n",
      "              'longitude': '-1.898042',\n",
      "              'street': {'id': 1639197, 'name': 'On or near '}},\n",
      " 'location_subtype': '',\n",
      " 'location_type': 'Force',\n",
      " 'month': '2022-11',\n",
      " 'outcome_status': None,\n",
      " 'persistent_id': ''}\n"
     ]
    }
   ],
   "source": [
    "# review a document in the collection\n",
    "pprint(crime_db.lastyearsecond.find_one())\n"
   ]
  },
  {
   "cell_type": "code",
   "execution_count": 12,
   "id": "b5680f9c",
   "metadata": {},
   "outputs": [
    {
     "name": "stdout",
     "output_type": "stream",
     "text": [
      "{'_id': ObjectId('64687bad2bb043de2dfbe8be'),\n",
      " 'category': 'anti-social-behaviour',\n",
      " 'context': '',\n",
      " 'id': 107131696,\n",
      " 'location': {'latitude': '52.481305',\n",
      "              'longitude': '-1.890641',\n",
      "              'street': {'id': 1639597, 'name': 'On or near Masshouse Lane'}},\n",
      " 'location_subtype': '',\n",
      " 'location_type': 'Force',\n",
      " 'month': '2022-12',\n",
      " 'outcome_status': None,\n",
      " 'persistent_id': ''}\n"
     ]
    }
   ],
   "source": [
    "# review a document in the collection\n",
    "pprint(crime_db.lastyearthird.find_one())"
   ]
  },
  {
   "cell_type": "code",
   "execution_count": null,
   "id": "3aaea753",
   "metadata": {},
   "outputs": [],
   "source": []
  }
 ],
 "metadata": {
  "kernelspec": {
   "display_name": "Python 3 (ipykernel)",
   "language": "python",
   "name": "python3"
  },
  "language_info": {
   "codemirror_mode": {
    "name": "ipython",
    "version": 3
   },
   "file_extension": ".py",
   "mimetype": "text/x-python",
   "name": "python",
   "nbconvert_exporter": "python",
   "pygments_lexer": "ipython3",
   "version": "3.9.16"
  }
 },
 "nbformat": 4,
 "nbformat_minor": 5
}
