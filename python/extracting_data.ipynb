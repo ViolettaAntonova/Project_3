{
 "cells": [
  {
   "cell_type": "code",
   "execution_count": 1,
   "id": "d5efa4fb",
   "metadata": {},
   "outputs": [],
   "source": [
    "#importing libraries\n",
    "import json\n",
    "import requests\n",
    "from pprint import pprint"
   ]
  },
  {
   "cell_type": "code",
   "execution_count": 2,
   "id": "4d5d541d",
   "metadata": {},
   "outputs": [],
   "source": [
    "#define function for pulling out of data from API\n",
    "def get_crime_data(date):\n",
    "    url = f\"https://data.police.uk/api/crimes-street/all-crime?poly=52.450,-1.894:52.5006,-1.86:52.479,-1.95&date={date}\"\n",
    "    response = requests.get(url)\n",
    "    data = response.json()\n",
    "    return data"
   ]
  },
  {
   "cell_type": "code",
   "execution_count": 3,
   "id": "fb012bb3",
   "metadata": {},
   "outputs": [],
   "source": [
    "#calling data for year 2023\n",
    "for i in range(1, 4):\n",
    "    crime_data = get_crime_data(f'2023-0{i}')\n",
    "    with open(f'2023-0{i}.json', 'w') as f:\n",
    "        json.dump(crime_data, f)"
   ]
  },
  {
   "cell_type": "code",
   "execution_count": 4,
   "id": "80546ba5",
   "metadata": {},
   "outputs": [],
   "source": [
    "#calling data for year 2022\n",
    "for i in range(10, 13):\n",
    "    crime_data = get_crime_data(f'2022-{i}')\n",
    "    with open(f'2022-{i}.json', 'w') as f:\n",
    "        json.dump(crime_data, f)"
   ]
  },
  {
   "cell_type": "code",
   "execution_count": null,
   "id": "7c1ecd97",
   "metadata": {},
   "outputs": [],
   "source": []
  }
 ],
 "metadata": {
  "kernelspec": {
   "display_name": "Python 3 (ipykernel)",
   "language": "python",
   "name": "python3"
  },
  "language_info": {
   "codemirror_mode": {
    "name": "ipython",
    "version": 3
   },
   "file_extension": ".py",
   "mimetype": "text/x-python",
   "name": "python",
   "nbconvert_exporter": "python",
   "pygments_lexer": "ipython3",
   "version": "3.9.16"
  }
 },
 "nbformat": 4,
 "nbformat_minor": 5
}
